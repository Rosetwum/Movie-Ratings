{
 "cells": [
  {
   "cell_type": "markdown",
   "id": "988e0b81",
   "metadata": {},
   "source": [
    "### LOAD, INSPECT & QUERY MOVIE RATINGS DATA\n",
    " The code below implemets various data cleaning, processing an analysis methods in python pandas and numpy to analyse the movie ratings dataset. It also randomly recommends movies based on ratings, returns ratings per country and director and shows the relationship between a movie's rating and its gross income through visualization."
   ]
  },
  {
   "cell_type": "code",
   "execution_count": 1,
   "id": "01edfe0e",
   "metadata": {},
   "outputs": [],
   "source": [
    "# Loading the data\n",
    "import pandas as pd\n",
    "\n",
    "xls = pd.ExcelFile('imdb.xlsx')\n",
    "df = xls.parse('imdb')\n",
    "df_directors = xls.parse('directors')\n",
    "df_countries = xls.parse('countries')\n"
   ]
  },
  {
   "cell_type": "code",
   "execution_count": 2,
   "id": "01b4e5fa",
   "metadata": {},
   "outputs": [],
   "source": [
    "#Joining df, df_directors, and df_countries with an inner join.\n",
    "\n",
    "df = pd.merge(left = df, right = df_countries, how = \"inner\", left_on = \"country_id\", right_on = \"id\")\n",
    "df = pd.merge(left = df, right = df_directors, how = \"inner\", left_on = \"director_id\", right_on = \"id\")\n"
   ]
  },
  {
   "cell_type": "markdown",
   "id": "6ca10a9d",
   "metadata": {},
   "source": [
    "   #### Inspecting Dataset"
   ]
  },
  {
   "cell_type": "code",
   "execution_count": 3,
   "id": "35123630",
   "metadata": {},
   "outputs": [
    {
     "data": {
      "text/html": [
       "<div>\n",
       "<style scoped>\n",
       "    .dataframe tbody tr th:only-of-type {\n",
       "        vertical-align: middle;\n",
       "    }\n",
       "\n",
       "    .dataframe tbody tr th {\n",
       "        vertical-align: top;\n",
       "    }\n",
       "\n",
       "    .dataframe thead th {\n",
       "        text-align: right;\n",
       "    }\n",
       "</style>\n",
       "<table border=\"1\" class=\"dataframe\">\n",
       "  <thead>\n",
       "    <tr style=\"text-align: right;\">\n",
       "      <th></th>\n",
       "      <th>movie_title</th>\n",
       "      <th>director_id</th>\n",
       "      <th>country_id</th>\n",
       "      <th>content_rating</th>\n",
       "      <th>title_year</th>\n",
       "      <th>imdb_score</th>\n",
       "      <th>gross</th>\n",
       "      <th>duration</th>\n",
       "      <th>id_x</th>\n",
       "      <th>country</th>\n",
       "      <th>id_y</th>\n",
       "      <th>director_name</th>\n",
       "    </tr>\n",
       "  </thead>\n",
       "  <tbody>\n",
       "    <tr>\n",
       "      <th>0</th>\n",
       "      <td>The Shawshank RedemptionÊ</td>\n",
       "      <td>34</td>\n",
       "      <td>1</td>\n",
       "      <td>R</td>\n",
       "      <td>1994</td>\n",
       "      <td>9.3</td>\n",
       "      <td>28341469</td>\n",
       "      <td>142</td>\n",
       "      <td>1</td>\n",
       "      <td>USA</td>\n",
       "      <td>34</td>\n",
       "      <td>Frank Darabont</td>\n",
       "    </tr>\n",
       "    <tr>\n",
       "      <th>1</th>\n",
       "      <td>The Shawshank RedemptionÊ</td>\n",
       "      <td>34</td>\n",
       "      <td>1</td>\n",
       "      <td>R</td>\n",
       "      <td>1994</td>\n",
       "      <td>9.3</td>\n",
       "      <td>28341469</td>\n",
       "      <td>142</td>\n",
       "      <td>1</td>\n",
       "      <td>USA</td>\n",
       "      <td>34</td>\n",
       "      <td>Frank Darabont</td>\n",
       "    </tr>\n",
       "    <tr>\n",
       "      <th>2</th>\n",
       "      <td>The Green MileÊ</td>\n",
       "      <td>34</td>\n",
       "      <td>1</td>\n",
       "      <td>R</td>\n",
       "      <td>1999</td>\n",
       "      <td>8.5</td>\n",
       "      <td>136801374</td>\n",
       "      <td>189</td>\n",
       "      <td>1</td>\n",
       "      <td>USA</td>\n",
       "      <td>34</td>\n",
       "      <td>Frank Darabont</td>\n",
       "    </tr>\n",
       "    <tr>\n",
       "      <th>3</th>\n",
       "      <td>The Green MileÊ</td>\n",
       "      <td>34</td>\n",
       "      <td>1</td>\n",
       "      <td>R</td>\n",
       "      <td>1999</td>\n",
       "      <td>8.5</td>\n",
       "      <td>136801374</td>\n",
       "      <td>189</td>\n",
       "      <td>1</td>\n",
       "      <td>USA</td>\n",
       "      <td>34</td>\n",
       "      <td>Frank Darabont</td>\n",
       "    </tr>\n",
       "    <tr>\n",
       "      <th>4</th>\n",
       "      <td>The GodfatherÊ</td>\n",
       "      <td>33</td>\n",
       "      <td>1</td>\n",
       "      <td>R</td>\n",
       "      <td>1972</td>\n",
       "      <td>9.2</td>\n",
       "      <td>134821952</td>\n",
       "      <td>175</td>\n",
       "      <td>1</td>\n",
       "      <td>USA</td>\n",
       "      <td>33</td>\n",
       "      <td>Francis Ford Coppola</td>\n",
       "    </tr>\n",
       "  </tbody>\n",
       "</table>\n",
       "</div>"
      ],
      "text/plain": [
       "                 movie_title  director_id  country_id content_rating  \\\n",
       "0  The Shawshank RedemptionÊ           34           1              R   \n",
       "1  The Shawshank RedemptionÊ           34           1              R   \n",
       "2            The Green MileÊ           34           1              R   \n",
       "3            The Green MileÊ           34           1              R   \n",
       "4             The GodfatherÊ           33           1              R   \n",
       "\n",
       "   title_year  imdb_score      gross  duration  id_x country  id_y  \\\n",
       "0        1994         9.3   28341469       142     1     USA    34   \n",
       "1        1994         9.3   28341469       142     1     USA    34   \n",
       "2        1999         8.5  136801374       189     1     USA    34   \n",
       "3        1999         8.5  136801374       189     1     USA    34   \n",
       "4        1972         9.2  134821952       175     1     USA    33   \n",
       "\n",
       "          director_name  \n",
       "0        Frank Darabont  \n",
       "1        Frank Darabont  \n",
       "2        Frank Darabont  \n",
       "3        Frank Darabont  \n",
       "4  Francis Ford Coppola  "
      ]
     },
     "execution_count": 3,
     "metadata": {},
     "output_type": "execute_result"
    }
   ],
   "source": [
    "#Examining dataframes for analysis\n",
    "\n",
    "df.head()"
   ]
  },
  {
   "cell_type": "code",
   "execution_count": 4,
   "id": "91fd53ea",
   "metadata": {},
   "outputs": [
    {
     "data": {
      "text/html": [
       "<div>\n",
       "<style scoped>\n",
       "    .dataframe tbody tr th:only-of-type {\n",
       "        vertical-align: middle;\n",
       "    }\n",
       "\n",
       "    .dataframe tbody tr th {\n",
       "        vertical-align: top;\n",
       "    }\n",
       "\n",
       "    .dataframe thead th {\n",
       "        text-align: right;\n",
       "    }\n",
       "</style>\n",
       "<table border=\"1\" class=\"dataframe\">\n",
       "  <thead>\n",
       "    <tr style=\"text-align: right;\">\n",
       "      <th></th>\n",
       "      <th>id</th>\n",
       "      <th>director_name</th>\n",
       "    </tr>\n",
       "  </thead>\n",
       "  <tbody>\n",
       "    <tr>\n",
       "      <th>0</th>\n",
       "      <td>1</td>\n",
       "      <td>Akira Kurosawa</td>\n",
       "    </tr>\n",
       "    <tr>\n",
       "      <th>1</th>\n",
       "      <td>2</td>\n",
       "      <td>Alejandro Amenabar</td>\n",
       "    </tr>\n",
       "    <tr>\n",
       "      <th>2</th>\n",
       "      <td>3</td>\n",
       "      <td>Alejandro G. Inarritu</td>\n",
       "    </tr>\n",
       "    <tr>\n",
       "      <th>3</th>\n",
       "      <td>3</td>\n",
       "      <td>Alejandro G. Inarritu</td>\n",
       "    </tr>\n",
       "    <tr>\n",
       "      <th>4</th>\n",
       "      <td>4</td>\n",
       "      <td>Alfred Hitchcock</td>\n",
       "    </tr>\n",
       "  </tbody>\n",
       "</table>\n",
       "</div>"
      ],
      "text/plain": [
       "   id          director_name\n",
       "0   1         Akira Kurosawa\n",
       "1   2     Alejandro Amenabar\n",
       "2   3  Alejandro G. Inarritu\n",
       "3   3  Alejandro G. Inarritu\n",
       "4   4       Alfred Hitchcock"
      ]
     },
     "execution_count": 4,
     "metadata": {},
     "output_type": "execute_result"
    }
   ],
   "source": [
    "df_directors.head()"
   ]
  },
  {
   "cell_type": "code",
   "execution_count": 5,
   "id": "d87426f4",
   "metadata": {},
   "outputs": [
    {
     "data": {
      "text/html": [
       "<div>\n",
       "<style scoped>\n",
       "    .dataframe tbody tr th:only-of-type {\n",
       "        vertical-align: middle;\n",
       "    }\n",
       "\n",
       "    .dataframe tbody tr th {\n",
       "        vertical-align: top;\n",
       "    }\n",
       "\n",
       "    .dataframe thead th {\n",
       "        text-align: right;\n",
       "    }\n",
       "</style>\n",
       "<table border=\"1\" class=\"dataframe\">\n",
       "  <thead>\n",
       "    <tr style=\"text-align: right;\">\n",
       "      <th></th>\n",
       "      <th>id</th>\n",
       "      <th>country</th>\n",
       "    </tr>\n",
       "  </thead>\n",
       "  <tbody>\n",
       "    <tr>\n",
       "      <th>0</th>\n",
       "      <td>1</td>\n",
       "      <td>USA</td>\n",
       "    </tr>\n",
       "    <tr>\n",
       "      <th>1</th>\n",
       "      <td>2</td>\n",
       "      <td>Italy</td>\n",
       "    </tr>\n",
       "    <tr>\n",
       "      <th>2</th>\n",
       "      <td>3</td>\n",
       "      <td>New Zealand</td>\n",
       "    </tr>\n",
       "    <tr>\n",
       "      <th>3</th>\n",
       "      <td>4</td>\n",
       "      <td>Japan</td>\n",
       "    </tr>\n",
       "    <tr>\n",
       "      <th>4</th>\n",
       "      <td>5</td>\n",
       "      <td>Brazil</td>\n",
       "    </tr>\n",
       "  </tbody>\n",
       "</table>\n",
       "</div>"
      ],
      "text/plain": [
       "   id      country\n",
       "0   1          USA\n",
       "1   2        Italy\n",
       "2   3  New Zealand\n",
       "3   4        Japan\n",
       "4   5       Brazil"
      ]
     },
     "execution_count": 5,
     "metadata": {},
     "output_type": "execute_result"
    }
   ],
   "source": [
    "df_countries.head()"
   ]
  },
  {
   "cell_type": "code",
   "execution_count": 6,
   "id": "d2a906f1",
   "metadata": {},
   "outputs": [
    {
     "name": "stdout",
     "output_type": "stream",
     "text": [
      "Index(['movie_title', 'director_id', 'country_id', 'content_rating',\n",
      "       'title_year', 'imdb_score', 'gross', 'duration', 'id_x', 'country',\n",
      "       'id_y', 'director_name'],\n",
      "      dtype='object')\n"
     ]
    }
   ],
   "source": [
    "columns = df.columns\n",
    "print(columns)"
   ]
  },
  {
   "cell_type": "code",
   "execution_count": 7,
   "id": "30ce0202",
   "metadata": {},
   "outputs": [
    {
     "name": "stdout",
     "output_type": "stream",
     "text": [
      "movie_title        object\n",
      "director_id         int64\n",
      "country_id          int64\n",
      "content_rating     object\n",
      "title_year          int64\n",
      "imdb_score        float64\n",
      "gross               int64\n",
      "duration            int64\n",
      "id_x                int64\n",
      "country            object\n",
      "id_y                int64\n",
      "director_name      object\n",
      "dtype: object\n"
     ]
    }
   ],
   "source": [
    "dtypes = df.dtypes\n",
    "print(dtypes)"
   ]
  },
  {
   "cell_type": "markdown",
   "id": "0acd9321",
   "metadata": {},
   "source": [
    "   #### Cleaning DataFrame"
   ]
  },
  {
   "cell_type": "code",
   "execution_count": 8,
   "id": "132a51d1",
   "metadata": {},
   "outputs": [],
   "source": [
    "#deleting duplicate column\n",
    "del df[\"id_x\"]\n",
    "del df[\"id_y\"]"
   ]
  },
  {
   "cell_type": "code",
   "execution_count": 9,
   "id": "a48a74b6",
   "metadata": {},
   "outputs": [
    {
     "data": {
      "text/html": [
       "<div>\n",
       "<style scoped>\n",
       "    .dataframe tbody tr th:only-of-type {\n",
       "        vertical-align: middle;\n",
       "    }\n",
       "\n",
       "    .dataframe tbody tr th {\n",
       "        vertical-align: top;\n",
       "    }\n",
       "\n",
       "    .dataframe thead th {\n",
       "        text-align: right;\n",
       "    }\n",
       "</style>\n",
       "<table border=\"1\" class=\"dataframe\">\n",
       "  <thead>\n",
       "    <tr style=\"text-align: right;\">\n",
       "      <th></th>\n",
       "      <th>movie_title</th>\n",
       "      <th>director_id</th>\n",
       "      <th>country_id</th>\n",
       "      <th>content_rating</th>\n",
       "      <th>title_year</th>\n",
       "      <th>imdb_score</th>\n",
       "      <th>gross</th>\n",
       "      <th>duration</th>\n",
       "      <th>country</th>\n",
       "      <th>director_name</th>\n",
       "    </tr>\n",
       "  </thead>\n",
       "  <tbody>\n",
       "    <tr>\n",
       "      <th>0</th>\n",
       "      <td>The Shawshank RedemptionÊ</td>\n",
       "      <td>34</td>\n",
       "      <td>1</td>\n",
       "      <td>R</td>\n",
       "      <td>1994</td>\n",
       "      <td>9.3</td>\n",
       "      <td>28341469</td>\n",
       "      <td>142</td>\n",
       "      <td>USA</td>\n",
       "      <td>Frank Darabont</td>\n",
       "    </tr>\n",
       "    <tr>\n",
       "      <th>1</th>\n",
       "      <td>The Shawshank RedemptionÊ</td>\n",
       "      <td>34</td>\n",
       "      <td>1</td>\n",
       "      <td>R</td>\n",
       "      <td>1994</td>\n",
       "      <td>9.3</td>\n",
       "      <td>28341469</td>\n",
       "      <td>142</td>\n",
       "      <td>USA</td>\n",
       "      <td>Frank Darabont</td>\n",
       "    </tr>\n",
       "    <tr>\n",
       "      <th>2</th>\n",
       "      <td>The Green MileÊ</td>\n",
       "      <td>34</td>\n",
       "      <td>1</td>\n",
       "      <td>R</td>\n",
       "      <td>1999</td>\n",
       "      <td>8.5</td>\n",
       "      <td>136801374</td>\n",
       "      <td>189</td>\n",
       "      <td>USA</td>\n",
       "      <td>Frank Darabont</td>\n",
       "    </tr>\n",
       "    <tr>\n",
       "      <th>3</th>\n",
       "      <td>The Green MileÊ</td>\n",
       "      <td>34</td>\n",
       "      <td>1</td>\n",
       "      <td>R</td>\n",
       "      <td>1999</td>\n",
       "      <td>8.5</td>\n",
       "      <td>136801374</td>\n",
       "      <td>189</td>\n",
       "      <td>USA</td>\n",
       "      <td>Frank Darabont</td>\n",
       "    </tr>\n",
       "    <tr>\n",
       "      <th>4</th>\n",
       "      <td>The GodfatherÊ</td>\n",
       "      <td>33</td>\n",
       "      <td>1</td>\n",
       "      <td>R</td>\n",
       "      <td>1972</td>\n",
       "      <td>9.2</td>\n",
       "      <td>134821952</td>\n",
       "      <td>175</td>\n",
       "      <td>USA</td>\n",
       "      <td>Francis Ford Coppola</td>\n",
       "    </tr>\n",
       "  </tbody>\n",
       "</table>\n",
       "</div>"
      ],
      "text/plain": [
       "                 movie_title  director_id  country_id content_rating  \\\n",
       "0  The Shawshank RedemptionÊ           34           1              R   \n",
       "1  The Shawshank RedemptionÊ           34           1              R   \n",
       "2            The Green MileÊ           34           1              R   \n",
       "3            The Green MileÊ           34           1              R   \n",
       "4             The GodfatherÊ           33           1              R   \n",
       "\n",
       "   title_year  imdb_score      gross  duration country         director_name  \n",
       "0        1994         9.3   28341469       142     USA        Frank Darabont  \n",
       "1        1994         9.3   28341469       142     USA        Frank Darabont  \n",
       "2        1999         8.5  136801374       189     USA        Frank Darabont  \n",
       "3        1999         8.5  136801374       189     USA        Frank Darabont  \n",
       "4        1972         9.2  134821952       175     USA  Francis Ford Coppola  "
      ]
     },
     "execution_count": 9,
     "metadata": {},
     "output_type": "execute_result"
    }
   ],
   "source": [
    "df.head()"
   ]
  },
  {
   "cell_type": "code",
   "execution_count": 10,
   "id": "0ecec8b7",
   "metadata": {},
   "outputs": [
    {
     "name": "stdout",
     "output_type": "stream",
     "text": [
      "0    The Shawshank Redemption\n",
      "1    The Shawshank Redemption\n",
      "2              The Green Mile\n",
      "3              The Green Mile\n",
      "4               The Godfather\n",
      "5               The Godfather\n",
      "6               The Godfather\n",
      "7      The Godfather: Part II\n",
      "8      The Godfather: Part II\n",
      "9      The Godfather: Part II\n",
      "Name: movie_title, dtype: object\n"
     ]
    }
   ],
   "source": [
    "#removing extra charater at end of movie title\n",
    "df[\"movie_title\"] = df[\"movie_title\"].str.replace(\"Ê\",\"\")\n",
    "print(df[\"movie_title\"].head(10))"
   ]
  },
  {
   "cell_type": "code",
   "execution_count": 11,
   "id": "c7e56883",
   "metadata": {},
   "outputs": [
    {
     "data": {
      "text/plain": [
       "(408, 10)"
      ]
     },
     "execution_count": 11,
     "metadata": {},
     "output_type": "execute_result"
    }
   ],
   "source": [
    "#return size of original Dataframe df\n",
    "df.shape"
   ]
  },
  {
   "cell_type": "code",
   "execution_count": 12,
   "id": "e056b0f9",
   "metadata": {},
   "outputs": [],
   "source": [
    "#removing duplicates\n",
    "df2 = df.drop_duplicates()"
   ]
  },
  {
   "cell_type": "code",
   "execution_count": 13,
   "id": "8c738dd8",
   "metadata": {},
   "outputs": [
    {
     "name": "stdout",
     "output_type": "stream",
     "text": [
      "Total movies in sheet:  178\n"
     ]
    }
   ],
   "source": [
    "#size of DataFrame after cleaning data\n",
    "total_movies=df2.shape\n",
    "print(\"Total movies in sheet: \", total_movies[0])"
   ]
  },
  {
   "cell_type": "markdown",
   "id": "a65665f1",
   "metadata": {},
   "source": [
    "   #### ANALYSING & SUMMARIZING DATA"
   ]
  },
  {
   "cell_type": "code",
   "execution_count": 14,
   "id": "62fa23c1",
   "metadata": {},
   "outputs": [
    {
     "name": "stdout",
     "output_type": "stream",
     "text": [
      "       imdb_score         gross\n",
      "count  178.000000  1.780000e+02\n",
      "mean     8.294382  1.030402e+08\n",
      "std      0.266960  1.242549e+08\n",
      "min      8.000000  8.060000e+03\n",
      "25%      8.100000  1.318510e+07\n",
      "50%      8.200000  5.194371e+07\n",
      "75%      8.475000  1.522436e+08\n",
      "max      9.300000  6.232795e+08\n"
     ]
    }
   ],
   "source": [
    "#summary statistics for imdb_score and gross\n",
    "score_gross_description = df2[[\"imdb_score\", \"gross\"]].describe()\n",
    "print(score_gross_description)"
   ]
  },
  {
   "cell_type": "code",
   "execution_count": 15,
   "id": "f7723ef8",
   "metadata": {},
   "outputs": [
    {
     "name": "stdout",
     "output_type": "stream",
     "text": [
      "Christopher Nolan    7\n",
      "Name: director_name, dtype: int64\n"
     ]
    }
   ],
   "source": [
    "#director with the most movies\n",
    "\n",
    "director_with_most = df2.director_name.value_counts().head(1)\n",
    "print(director_with_most)"
   ]
  },
  {
   "cell_type": "code",
   "execution_count": 16,
   "id": "db9120aa",
   "metadata": {},
   "outputs": [],
   "source": [
    "#return movie ratings for director_with_most(dwm)\n",
    "dwm = df2[\"director_name\"]== \"Christopher Nolan\"\n",
    "df_chris = df2[dwm]\n",
    "\n",
    "#storing attributes in list\n",
    "atts =[\"movie_title\", \"imdb_score\"]"
   ]
  },
  {
   "cell_type": "code",
   "execution_count": 17,
   "id": "d1546273",
   "metadata": {},
   "outputs": [
    {
     "name": "stdout",
     "output_type": "stream",
     "text": [
      "              movie_title  imdb_score\n",
      "13        The Dark Knight         9.0\n",
      "20              Inception         8.8\n",
      "27           Interstellar         8.6\n",
      "34                Memento         8.5\n",
      "41           The Prestige         8.5\n",
      "48  The Dark Knight Rises         8.5\n",
      "55          Batman Begins         8.3\n"
     ]
    }
   ],
   "source": [
    "all_movies_ratings = df_chris[atts]\n",
    "print(all_movies_ratings)"
   ]
  },
  {
   "cell_type": "code",
   "execution_count": 18,
   "id": "a01d20ca",
   "metadata": {},
   "outputs": [
    {
     "name": "stdout",
     "output_type": "stream",
     "text": [
      "8.6\n"
     ]
    }
   ],
   "source": [
    "#average rating for director_with_most_movies\n",
    "import numpy as np\n",
    "dwm_mean = df_chris[\"imdb_score\"].mean()\n",
    "print(dwm_mean)"
   ]
  },
  {
   "cell_type": "code",
   "execution_count": 19,
   "id": "c4018cf3",
   "metadata": {},
   "outputs": [
    {
     "name": "stdout",
     "output_type": "stream",
     "text": [
      "Christopher Nolan    7\n",
      "Martin Scorsese      6\n",
      "Quentin Tarantino    6\n",
      "Steven Spielberg     5\n",
      "Ridley Scott         4\n",
      "                    ..\n",
      "Joel Coen            1\n",
      "James McTeigue       1\n",
      "Gavin O'Connor       1\n",
      "Elia Kazan           1\n",
      "George Miller        1\n",
      "Name: director_name, Length: 117, dtype: int64\n"
     ]
    }
   ],
   "source": [
    "#total number of movies per director in df2\n",
    "count = df2.director_name.value_counts()\n",
    "print(count)"
   ]
  },
  {
   "cell_type": "code",
   "execution_count": 20,
   "id": "f9329ea1",
   "metadata": {},
   "outputs": [
    {
     "name": "stdout",
     "output_type": "stream",
     "text": [
      "27    Interstellar\n",
      "Name: movie_title, dtype: object\n",
      "27    8.6\n",
      "Name: imdb_score, dtype: float64\n"
     ]
    }
   ],
   "source": [
    "#recommending random movies\n",
    "\n",
    "import random\n",
    "#random.seed(0)\n",
    "\n",
    "score = df2[\"imdb_score\"]> 8.3\n",
    "df_score = df2[score]\n",
    "rand = random.randint(0, len(df_score)-1)\n",
    "rand_goodmovie = df_score[rand:rand +1]\n",
    "random_title = rand_goodmovie[\"movie_title\"]\n",
    "print(random_title)\n",
    "random_imdb_score= rand_goodmovie[\"imdb_score\"]\n",
    "print(random_imdb_score)"
   ]
  },
  {
   "cell_type": "code",
   "execution_count": 21,
   "id": "b6cfa6ed",
   "metadata": {},
   "outputs": [
    {
     "name": "stdout",
     "output_type": "stream",
     "text": [
      "director_name\n",
      "Akira Kurosawa           8.70\n",
      "Alejandro Amenabar       8.10\n",
      "Alejandro G. Inarritu    8.10\n",
      "Alfred Hitchcock         8.50\n",
      "Andrew Stanton           8.30\n",
      "                         ... \n",
      "Victor Fleming           8.15\n",
      "Vincent Paronnaud        8.00\n",
      "Wes Anderson             8.10\n",
      "Wolfgang Petersen        8.40\n",
      "Woody Allen              8.10\n",
      "Name: imdb_score, Length: 117, dtype: float64\n"
     ]
    },
    {
     "data": {
      "text/plain": [
       "pandas.core.series.Series"
      ]
     },
     "execution_count": 21,
     "metadata": {},
     "output_type": "execute_result"
    }
   ],
   "source": [
    "#summarizing df2\n",
    "#creating series containing each directors name and rating\n",
    "\n",
    "direcs = [\"director_name\",\"imdb_score\"]\n",
    "dafr = df2[direcs]\n",
    "\n",
    "#using pivot_table method,\n",
    "\n",
    "d_df2 = pd.pivot_table(dafr, index = [\"director_name\"])\n",
    "directors = d_df2.squeeze()\n",
    "\n",
    "print(directors)\n",
    "type(directors)"
   ]
  },
  {
   "cell_type": "code",
   "execution_count": 22,
   "id": "210c0344",
   "metadata": {},
   "outputs": [
    {
     "name": "stdout",
     "output_type": "stream",
     "text": [
      "3\n",
      "              movie_title  director_id  country_id content_rating  title_year  \\\n",
      "346         Spirited Away           46           4             PG        2001   \n",
      "349     Princess Mononoke           46           4          PG-13        1997   \n",
      "352  Howl's Moving Castle           46           4             PG        2004   \n",
      "\n",
      "     imdb_score     gross  duration country   director_name  \n",
      "346         8.6  10049886       125   Japan  Hayao Miyazaki  \n",
      "349         8.4   2298191       134   Japan  Hayao Miyazaki  \n",
      "352         8.2   4710455       119   Japan  Hayao Miyazaki  \n"
     ]
    }
   ],
   "source": [
    "#non-USA movies after year 1960 by miyazaki\n",
    "\n",
    "c1 = df2[\"country_id\"] != 1\n",
    "c2 = df2[\"title_year\"] > 1960\n",
    "c3 = df2[\"director_id\"] == 46\n",
    "\n",
    "miyazaki = df2[c1 & c2 & c3]\n",
    "\n",
    "print(len(miyazaki))\n",
    "print(miyazaki)"
   ]
  },
  {
   "cell_type": "code",
   "execution_count": 23,
   "id": "4754cdb7",
   "metadata": {},
   "outputs": [
    {
     "name": "stdout",
     "output_type": "stream",
     "text": [
      "                                      median\n",
      "                                  imdb_score\n",
      "country      director_name                  \n",
      "Argentina    Juan Jose Campanella       8.20\n",
      "Australia    George Miller              8.10\n",
      "Brazil       Fernando Meirelles         8.70\n",
      "             Jose Padilha               8.10\n",
      "Canada       Denis Villeneuve           8.20\n",
      "...                                      ...\n",
      "USA          Tony Scott                 8.00\n",
      "             Victor Fleming             8.15\n",
      "             Wes Anderson               8.10\n",
      "             Woody Allen                8.10\n",
      "West Germany Wolfgang Petersen          8.40\n",
      "\n",
      "[125 rows x 1 columns]\n"
     ]
    }
   ],
   "source": [
    "#median rating per director per country\n",
    "\n",
    "#using pivot table\n",
    "pivot_agg= pd.pivot_table(df2, index=[\"country\", \"director_name\"],values=[\"imdb_score\"],aggfunc=[np.median])\n",
    "\n",
    "print(pivot_agg)"
   ]
  },
  {
   "cell_type": "code",
   "execution_count": 24,
   "id": "555df7c9",
   "metadata": {},
   "outputs": [
    {
     "name": "stdout",
     "output_type": "stream",
     "text": [
      "203    171\n",
      "Name: duration, dtype: int64\n"
     ]
    }
   ],
   "source": [
    "#gladiatr movie duration\n",
    "glad = df2[df2[\"movie_title\"] == \"Gladiator\" ]\n",
    "gladiator_duration = glad[\"duration\"]\n",
    "print(gladiator_duration)"
   ]
  },
  {
   "cell_type": "markdown",
   "id": "a8b4ef30",
   "metadata": {},
   "source": [
    "   #### Visualization - Scatterplot & Histogram"
   ]
  },
  {
   "cell_type": "code",
   "execution_count": 25,
   "id": "c077ab0f",
   "metadata": {},
   "outputs": [
    {
     "data": {
      "image/png": "[encoded data removed]",
      "text/plain": [
       "<Figure size 640x480 with 1 Axes>"
      ]
     },
     "metadata": {},
     "output_type": "display_data"
    }
   ],
   "source": [
    "#relationship between imdb_score to gross\n",
    "\n",
    "import matplotlib.pyplot as plt1\n",
    "\n",
    "#creating new DataFrame for each category\n",
    "df_before_2000 = df2[df2[\"title_year\"] < 2000]\n",
    "df_after_2000 = df2[df2[\"title_year\"] >= 2000]\n",
    "\n",
    "#setting options\n",
    "plt1.scatter(df_before_2000[\"imdb_score\"], df_before_2000[\"gross\"], marker = \"o\", color= \"r\", alpha = 0.7, s = 124, label = \"imdb >= 2000\")\n",
    "plt1.scatter(df_after_2000[\"imdb_score\"], df_after_2000[\"gross\"], marker = \"h\", color= \"b\", alpha = 0.7, s = 124, label = \"imdb < 2000\")\n",
    "\n",
    "plt1.legend(loc=\"best\")\n",
    "plt1.xlabel(\"Gross\")\n",
    "plt1.ylabel(\"Review Rating\")\n",
    "plt1.title(\"Relationship Between Ratings and Gross income\")\n",
    "axes = plt1.gca()\n",
    "axes.set_xscale(\"log\")\n",
    "\n",
    "#displaying the visualization\n",
    "plt1.show()"
   ]
  },
  {
   "cell_type": "code",
   "execution_count": 26,
   "id": "6ceb1a1e",
   "metadata": {},
   "outputs": [
    {
     "data": {
      "image/png": "[encoded data removed]",
      "text/plain": [
       "<Figure size 640x480 with 1 Axes>"
      ]
     },
     "metadata": {},
     "output_type": "display_data"
    }
   ],
   "source": [
    "#score distribution vs count of various ratings\n",
    "\n",
    "import matplotlib.pyplot as plt2\n",
    "\n",
    "#creating new DataFrame for each rating type\n",
    "df_R = df2[df2[\"content_rating\"]== \"R\"]\n",
    "df_PG13 = df2[df2[\"content_rating\"]== \"PG-13\"]\n",
    "\n",
    "df_RR = df_R[\"imdb_score\"]\n",
    "df_PG133 = df_PG13[\"imdb_score\"]\n",
    "\n",
    "#setting options\n",
    "plt2.hist([df_RR,df_PG133], alpha= 0.7, color = [\"red\",\"blue\"],label = [\"R-Rated\",\"PG-13\"], bins= \"auto\")\n",
    "plt2.xlabel(\"rating\")\n",
    "plt2.ylabel(\"count of rating\")\n",
    "plt2.title(\"score distribution vs. count of R-Rated & PG-13 movies\")\n",
    "plt2.legend(loc= \"best\")\n",
    "\n",
    "#Displaying the visualization\n",
    "plt2.show() \n"
   ]
  },
  {
   "cell_type": "code",
   "execution_count": null,
   "id": "db7987ef",
   "metadata": {},
   "outputs": [],
   "source": []
  }
 ],
 "metadata": {
  "kernelspec": {
   "display_name": "Python 3 (ipykernel)",
   "language": "python",
   "name": "python3"
  },
  "language_info": {
   "codemirror_mode": {
    "name": "ipython",
    "version": 3
   },
   "file_extension": ".py",
   "mimetype": "text/x-python",
   "name": "python",
   "nbconvert_exporter": "python",
   "pygments_lexer": "ipython3",
   "version": "3.9.13"
  }
 },
 "nbformat": 4,
 "nbformat_minor": 5
}
